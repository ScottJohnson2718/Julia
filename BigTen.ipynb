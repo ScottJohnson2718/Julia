{
 "cells": [
  {
   "cell_type": "code",
   "execution_count": 1,
   "metadata": {},
   "outputs": [],
   "source": [
    "using CSV"
   ]
  },
  {
   "cell_type": "code",
   "execution_count": 161,
   "metadata": {},
   "outputs": [],
   "source": [
    "using Pkg;"
   ]
  },
  {
   "cell_type": "code",
   "execution_count": 88,
   "metadata": {},
   "outputs": [
    {
     "name": "stdout",
     "output_type": "stream",
     "text": [
      "\u001b[32m\u001b[1m Resolving\u001b[22m\u001b[39m package versions...\n",
      "\u001b[32m\u001b[1m  Updating\u001b[22m\u001b[39m `C:\\Users\\scott\\.julia\\environments\\v1.0\\Project.toml`\n",
      "\u001b[90m [no changes]\u001b[39m\n",
      "\u001b[32m\u001b[1m  Updating\u001b[22m\u001b[39m `C:\\Users\\scott\\.julia\\environments\\v1.0\\Manifest.toml`\n",
      "\u001b[90m [no changes]\u001b[39m\n"
     ]
    }
   ],
   "source": [
    "Pkg.add(\"CSV\");"
   ]
  },
  {
   "cell_type": "code",
   "execution_count": 2,
   "metadata": {},
   "outputs": [
    {
     "data": {
      "text/html": [
       "<table class=\"data-frame\"><thead><tr><th></th><th>Home</th><th>Visitor</th><th>HomePoints</th><th>VisitorPoints</th></tr><tr><th></th><th>String</th><th>String</th><th>Int64</th><th>Int64</th></tr></thead><tbody><p>24 rows × 4 columns</p><tr><th>1</th><td>Iowa</td><td>Northwestern</td><td>20</td><td>0</td></tr><tr><th>2</th><td>Wisconsin</td><td>Ohio State</td><td>7</td><td>38</td></tr><tr><th>3</th><td>Illinois</td><td>Purdue</td><td>24</td><td>6</td></tr><tr><th>4</th><td>Penn State</td><td>Michigan State</td><td>28</td><td>7</td></tr><tr><th>5</th><td>Indiana</td><td>Nebraska</td><td>9</td><td>14</td></tr><tr><th>6</th><td>Maryland</td><td>Minnesota</td><td>10</td><td>52</td></tr><tr><th>7</th><td>Ohio State</td><td>Northwestern</td><td>52</td><td>3</td></tr><tr><th>8</th><td>Wisconsin</td><td>Illinois</td><td>23</td><td>24</td></tr><tr><th>9</th><td>Purdue</td><td>Iowa</td><td>20</td><td>26</td></tr><tr><th>10</th><td>Indiana</td><td>Maryland</td><td>34</td><td>28</td></tr><tr><th>11</th><td>Minnesota</td><td>Rutgers</td><td>42</td><td>7</td></tr><tr><th>12</th><td>Michigan</td><td>Penn State</td><td>21</td><td>28</td></tr><tr><th>13</th><td>Rutgers</td><td>Indiana</td><td>0</td><td>35</td></tr><tr><th>14</th><td>Maryland</td><td>Purdue</td><td>14</td><td>40</td></tr><tr><th>15</th><td>Michigan</td><td>Illinois</td><td>42</td><td>25</td></tr><tr><th>16</th><td>Michigan State</td><td>Wisconsin</td><td>0</td><td>38</td></tr><tr><th>17</th><td>Penn State</td><td>Iowa</td><td>17</td><td>12</td></tr><tr><th>18</th><td>Nebraska</td><td>Minnesota</td><td>7</td><td>34</td></tr><tr><th>19</th><td>Maryland</td><td>Rutgers</td><td>48</td><td>7</td></tr><tr><th>20</th><td>Iowa</td><td>Michigan</td><td>3</td><td>10</td></tr><tr><th>21</th><td>Purdue</td><td>Penn State</td><td>7</td><td>35</td></tr><tr><th>22</th><td>Illinois</td><td>Minnesota</td><td>17</td><td>40</td></tr><tr><th>23</th><td>Northwestern</td><td>Nebraska</td><td>10</td><td>13</td></tr><tr><th>24</th><td>Michigan State</td><td>Ohio State</td><td>10</td><td>34</td></tr></tbody></table>"
      ],
      "text/latex": [
       "\\begin{tabular}{r|cccc}\n",
       "\t& Home & Visitor & HomePoints & VisitorPoints\\\\\n",
       "\t\\hline\n",
       "\t& String & String & Int64 & Int64\\\\\n",
       "\t\\hline\n",
       "\t1 & Iowa & Northwestern & 20 & 0 \\\\\n",
       "\t2 & Wisconsin & Ohio State & 7 & 38 \\\\\n",
       "\t3 & Illinois & Purdue & 24 & 6 \\\\\n",
       "\t4 & Penn State & Michigan State & 28 & 7 \\\\\n",
       "\t5 & Indiana & Nebraska & 9 & 14 \\\\\n",
       "\t6 & Maryland & Minnesota & 10 & 52 \\\\\n",
       "\t7 & Ohio State & Northwestern & 52 & 3 \\\\\n",
       "\t8 & Wisconsin & Illinois & 23 & 24 \\\\\n",
       "\t9 & Purdue & Iowa & 20 & 26 \\\\\n",
       "\t10 & Indiana & Maryland & 34 & 28 \\\\\n",
       "\t11 & Minnesota & Rutgers & 42 & 7 \\\\\n",
       "\t12 & Michigan & Penn State & 21 & 28 \\\\\n",
       "\t13 & Rutgers & Indiana & 0 & 35 \\\\\n",
       "\t14 & Maryland & Purdue & 14 & 40 \\\\\n",
       "\t15 & Michigan & Illinois & 42 & 25 \\\\\n",
       "\t16 & Michigan State & Wisconsin & 0 & 38 \\\\\n",
       "\t17 & Penn State & Iowa & 17 & 12 \\\\\n",
       "\t18 & Nebraska & Minnesota & 7 & 34 \\\\\n",
       "\t19 & Maryland & Rutgers & 48 & 7 \\\\\n",
       "\t20 & Iowa & Michigan & 3 & 10 \\\\\n",
       "\t21 & Purdue & Penn State & 7 & 35 \\\\\n",
       "\t22 & Illinois & Minnesota & 17 & 40 \\\\\n",
       "\t23 & Northwestern & Nebraska & 10 & 13 \\\\\n",
       "\t24 & Michigan State & Ohio State & 10 & 34 \\\\\n",
       "\\end{tabular}\n"
      ],
      "text/plain": [
       "24×4 DataFrames.DataFrame\n",
       "│ Row │ Home           │ Visitor        │ HomePoints │ VisitorPoints │\n",
       "│     │ \u001b[90mString\u001b[39m         │ \u001b[90mString\u001b[39m         │ \u001b[90mInt64\u001b[39m      │ \u001b[90mInt64\u001b[39m         │\n",
       "├─────┼────────────────┼────────────────┼────────────┼───────────────┤\n",
       "│ 1   │ Iowa           │ Northwestern   │ 20         │ 0             │\n",
       "│ 2   │ Wisconsin      │ Ohio State     │ 7          │ 38            │\n",
       "│ 3   │ Illinois       │ Purdue         │ 24         │ 6             │\n",
       "│ 4   │ Penn State     │ Michigan State │ 28         │ 7             │\n",
       "│ 5   │ Indiana        │ Nebraska       │ 9          │ 14            │\n",
       "│ 6   │ Maryland       │ Minnesota      │ 10         │ 52            │\n",
       "│ 7   │ Ohio State     │ Northwestern   │ 52         │ 3             │\n",
       "│ 8   │ Wisconsin      │ Illinois       │ 23         │ 24            │\n",
       "│ 9   │ Purdue         │ Iowa           │ 20         │ 26            │\n",
       "│ 10  │ Indiana        │ Maryland       │ 34         │ 28            │\n",
       "⋮\n",
       "│ 14  │ Maryland       │ Purdue         │ 14         │ 40            │\n",
       "│ 15  │ Michigan       │ Illinois       │ 42         │ 25            │\n",
       "│ 16  │ Michigan State │ Wisconsin      │ 0          │ 38            │\n",
       "│ 17  │ Penn State     │ Iowa           │ 17         │ 12            │\n",
       "│ 18  │ Nebraska       │ Minnesota      │ 7          │ 34            │\n",
       "│ 19  │ Maryland       │ Rutgers        │ 48         │ 7             │\n",
       "│ 20  │ Iowa           │ Michigan       │ 3          │ 10            │\n",
       "│ 21  │ Purdue         │ Penn State     │ 7          │ 35            │\n",
       "│ 22  │ Illinois       │ Minnesota      │ 17         │ 40            │\n",
       "│ 23  │ Northwestern   │ Nebraska       │ 10         │ 13            │\n",
       "│ 24  │ Michigan State │ Ohio State     │ 10         │ 34            │"
      ]
     },
     "execution_count": 2,
     "metadata": {},
     "output_type": "execute_result"
    }
   ],
   "source": [
    "games=CSV.read(\"C:/Users/scott/Documents/BigTen.csv\")"
   ]
  },
  {
   "cell_type": "code",
   "execution_count": 3,
   "metadata": {},
   "outputs": [
    {
     "data": {
      "text/plain": [
       "24-element CSV.Column{String,String}:\n",
       " \"Iowa\"          \n",
       " \"Wisconsin\"     \n",
       " \"Illinois\"      \n",
       " \"Penn State\"    \n",
       " \"Indiana\"       \n",
       " \"Maryland\"      \n",
       " \"Ohio State\"    \n",
       " \"Wisconsin\"     \n",
       " \"Purdue\"        \n",
       " \"Indiana\"       \n",
       " \"Minnesota\"     \n",
       " \"Michigan\"      \n",
       " \"Rutgers\"       \n",
       " \"Maryland\"      \n",
       " \"Michigan\"      \n",
       " \"Michigan State\"\n",
       " \"Penn State\"    \n",
       " \"Nebraska\"      \n",
       " \"Maryland\"      \n",
       " \"Iowa\"          \n",
       " \"Purdue\"        \n",
       " \"Illinois\"      \n",
       " \"Northwestern\"  \n",
       " \"Michigan State\""
      ]
     },
     "execution_count": 3,
     "metadata": {},
     "output_type": "execute_result"
    }
   ],
   "source": [
    "games.Home"
   ]
  },
  {
   "cell_type": "markdown",
   "metadata": {},
   "source": [
    "Let's gather the teams from the provided data and not hard code a predetermined list.  A set in Julia will give us a unique list of teams."
   ]
  },
  {
   "cell_type": "code",
   "execution_count": 4,
   "metadata": {},
   "outputs": [
    {
     "data": {
      "text/plain": [
       "Set([\"Nebraska\", \"Purdue\", \"Illinois\", \"Maryland\", \"Michigan\", \"Northwestern\", \"Iowa\", \"Minnesota\", \"Penn State\", \"Rutgers\", \"Wisconsin\", \"Indiana\", \"Michigan State\", \"Ohio State\"])"
      ]
     },
     "execution_count": 4,
     "metadata": {},
     "output_type": "execute_result"
    }
   ],
   "source": [
    "teams=Set(vcat(games.Home, games.Visitor))"
   ]
  },
  {
   "cell_type": "code",
   "execution_count": 5,
   "metadata": {},
   "outputs": [
    {
     "data": {
      "text/plain": [
       "Dict{String,Int64} with 14 entries:\n",
       "  \"Nebraska\"       => 1\n",
       "  \"Purdue\"         => 2\n",
       "  \"Illinois\"       => 3\n",
       "  \"Maryland\"       => 4\n",
       "  \"Michigan\"       => 5\n",
       "  \"Northwestern\"   => 6\n",
       "  \"Iowa\"           => 7\n",
       "  \"Minnesota\"      => 8\n",
       "  \"Penn State\"     => 9\n",
       "  \"Rutgers\"        => 10\n",
       "  \"Wisconsin\"      => 11\n",
       "  \"Indiana\"        => 12\n",
       "  \"Michigan State\" => 13\n",
       "  \"Ohio State\"     => 14"
      ]
     },
     "execution_count": 5,
     "metadata": {},
     "output_type": "execute_result"
    }
   ],
   "source": [
    "teamIndex=Dict(pop!(teams) => i for i=1:length(teams))"
   ]
  },
  {
   "cell_type": "code",
   "execution_count": 6,
   "metadata": {},
   "outputs": [
    {
     "data": {
      "text/plain": [
       "7"
      ]
     },
     "execution_count": 6,
     "metadata": {},
     "output_type": "execute_result"
    }
   ],
   "source": [
    "teamIndex[\"Iowa\"]"
   ]
  },
  {
   "cell_type": "code",
   "execution_count": 21,
   "metadata": {},
   "outputs": [],
   "source": [
    "A = zeros(length(games.Home), length(teamIndex));"
   ]
  },
  {
   "cell_type": "code",
   "execution_count": 22,
   "metadata": {},
   "outputs": [],
   "source": [
    "b=zeros(length(games.Home)+1);"
   ]
  },
  {
   "cell_type": "code",
   "execution_count": 23,
   "metadata": {},
   "outputs": [],
   "source": [
    "for i = 1:length(games.Home)\n",
    "    homeIndex = teamIndex[games.Home[i]]\n",
    "    visitorIndex = teamIndex[games.Visitor[i]]\n",
    "    delta::Float64 = games.HomePoints[i] - games.VisitorPoints[i]\n",
    "    A[i,visitorIndex] = -1\n",
    "    A[i,homeIndex] = 1\n",
    "    b[i] = delta;\n",
    "end"
   ]
  },
  {
   "cell_type": "code",
   "execution_count": 24,
   "metadata": {},
   "outputs": [
    {
     "data": {
      "text/plain": [
       "24×14 Array{Float64,2}:\n",
       "  0.0   0.0   0.0   0.0   0.0  -1.0  …   0.0   0.0   0.0   0.0   0.0   0.0\n",
       "  0.0   0.0   0.0   0.0   0.0   0.0      0.0   0.0   1.0   0.0   0.0  -1.0\n",
       "  0.0  -1.0   1.0   0.0   0.0   0.0      0.0   0.0   0.0   0.0   0.0   0.0\n",
       "  0.0   0.0   0.0   0.0   0.0   0.0      1.0   0.0   0.0   0.0  -1.0   0.0\n",
       " -1.0   0.0   0.0   0.0   0.0   0.0      0.0   0.0   0.0   1.0   0.0   0.0\n",
       "  0.0   0.0   0.0   1.0   0.0   0.0  …   0.0   0.0   0.0   0.0   0.0   0.0\n",
       "  0.0   0.0   0.0   0.0   0.0  -1.0      0.0   0.0   0.0   0.0   0.0   1.0\n",
       "  0.0   0.0  -1.0   0.0   0.0   0.0      0.0   0.0   1.0   0.0   0.0   0.0\n",
       "  0.0   1.0   0.0   0.0   0.0   0.0      0.0   0.0   0.0   0.0   0.0   0.0\n",
       "  0.0   0.0   0.0  -1.0   0.0   0.0      0.0   0.0   0.0   1.0   0.0   0.0\n",
       "  0.0   0.0   0.0   0.0   0.0   0.0  …   0.0  -1.0   0.0   0.0   0.0   0.0\n",
       "  0.0   0.0   0.0   0.0   1.0   0.0     -1.0   0.0   0.0   0.0   0.0   0.0\n",
       "  0.0   0.0   0.0   0.0   0.0   0.0      0.0   1.0   0.0  -1.0   0.0   0.0\n",
       "  0.0  -1.0   0.0   1.0   0.0   0.0      0.0   0.0   0.0   0.0   0.0   0.0\n",
       "  0.0   0.0  -1.0   0.0   1.0   0.0      0.0   0.0   0.0   0.0   0.0   0.0\n",
       "  0.0   0.0   0.0   0.0   0.0   0.0  …   0.0   0.0  -1.0   0.0   1.0   0.0\n",
       "  0.0   0.0   0.0   0.0   0.0   0.0      1.0   0.0   0.0   0.0   0.0   0.0\n",
       "  1.0   0.0   0.0   0.0   0.0   0.0      0.0   0.0   0.0   0.0   0.0   0.0\n",
       "  0.0   0.0   0.0   1.0   0.0   0.0      0.0  -1.0   0.0   0.0   0.0   0.0\n",
       "  0.0   0.0   0.0   0.0  -1.0   0.0      0.0   0.0   0.0   0.0   0.0   0.0\n",
       "  0.0   1.0   0.0   0.0   0.0   0.0  …  -1.0   0.0   0.0   0.0   0.0   0.0\n",
       "  0.0   0.0   1.0   0.0   0.0   0.0      0.0   0.0   0.0   0.0   0.0   0.0\n",
       " -1.0   0.0   0.0   0.0   0.0   1.0      0.0   0.0   0.0   0.0   0.0   0.0\n",
       "  0.0   0.0   0.0   0.0   0.0   0.0      0.0   0.0   0.0   0.0   1.0  -1.0"
      ]
     },
     "execution_count": 24,
     "metadata": {},
     "output_type": "execute_result"
    }
   ],
   "source": [
    "A"
   ]
  },
  {
   "cell_type": "markdown",
   "metadata": {},
   "source": [
    "We have only set conditions on the differences between the teams.  We make up\n",
    "an arbitrary rule that the ratings must total zero.  This condition\n",
    "is expressed as the last rule."
   ]
  },
  {
   "cell_type": "code",
   "execution_count": 25,
   "metadata": {},
   "outputs": [],
   "source": [
    "A=vcat(A, transpose(ones(14)));"
   ]
  },
  {
   "cell_type": "code",
   "execution_count": 26,
   "metadata": {
    "scrolled": true
   },
   "outputs": [
    {
     "data": {
      "text/plain": [
       "25-element Array{Float64,1}:\n",
       "  20.0\n",
       " -31.0\n",
       "  18.0\n",
       "  21.0\n",
       "  -5.0\n",
       " -42.0\n",
       "  49.0\n",
       "  -1.0\n",
       "  -6.0\n",
       "   6.0\n",
       "  35.0\n",
       "  -7.0\n",
       " -35.0\n",
       " -26.0\n",
       "  17.0\n",
       " -38.0\n",
       "   5.0\n",
       " -27.0\n",
       "  41.0\n",
       "  -7.0\n",
       " -28.0\n",
       " -23.0\n",
       "  -3.0\n",
       " -24.0\n",
       "   0.0"
      ]
     },
     "execution_count": 26,
     "metadata": {},
     "output_type": "execute_result"
    }
   ],
   "source": [
    "b"
   ]
  },
  {
   "cell_type": "code",
   "execution_count": 27,
   "metadata": {},
   "outputs": [
    {
     "data": {
      "text/plain": [
       "14-element Array{Float64,1}:\n",
       "  -9.67292291017554  \n",
       "  -3.3491278189530993\n",
       "   4.712241805261956 \n",
       " -18.51332821117989  \n",
       "  16.03893897845583  \n",
       " -14.118962013996773 \n",
       "   7.7950848551223   \n",
       "  15.430403093667486 \n",
       "  18.609490274983237 \n",
       " -41.80437830923659  \n",
       "  11.728752967877597 \n",
       " -11.330209810197333 \n",
       "  -7.046934914692088 \n",
       "  31.52095201306291  "
      ]
     },
     "execution_count": 27,
     "metadata": {},
     "output_type": "execute_result"
    }
   ],
   "source": [
    "ratings = A\\b"
   ]
  },
  {
   "cell_type": "code",
   "execution_count": 28,
   "metadata": {},
   "outputs": [
    {
     "data": {
      "text/plain": [
       "15.482013034607082"
      ]
     },
     "execution_count": 28,
     "metadata": {},
     "output_type": "execute_result"
    }
   ],
   "source": [
    "ratings[teamIndex[\"Ohio State\"]] - ratings[teamIndex[\"Michigan\"]]"
   ]
  },
  {
   "cell_type": "code",
   "execution_count": 29,
   "metadata": {},
   "outputs": [
    {
     "data": {
      "text/plain": [
       "prediction (generic function with 1 method)"
      ]
     },
     "execution_count": 29,
     "metadata": {},
     "output_type": "execute_result"
    }
   ],
   "source": [
    "prediction(a,b)= ratings[teamIndex[a]] - ratings[teamIndex[b]]"
   ]
  },
  {
   "cell_type": "code",
   "execution_count": 30,
   "metadata": {},
   "outputs": [
    {
     "data": {
      "text/plain": [
       "-15.482013034607082"
      ]
     },
     "execution_count": 30,
     "metadata": {},
     "output_type": "execute_result"
    }
   ],
   "source": [
    "prediction(\"Michigan\", \"Ohio State\")"
   ]
  },
  {
   "cell_type": "code",
   "execution_count": 31,
   "metadata": {},
   "outputs": [
    {
     "data": {
      "text/plain": [
       "-23.085873893147916"
      ]
     },
     "execution_count": 31,
     "metadata": {},
     "output_type": "execute_result"
    }
   ],
   "source": [
    "prediction(\"Michigan State\", \"Michigan\")"
   ]
  },
  {
   "cell_type": "code",
   "execution_count": 32,
   "metadata": {},
   "outputs": [
    {
     "data": {
      "text/plain": [
       "34.552267189635714"
      ]
     },
     "execution_count": 32,
     "metadata": {},
     "output_type": "execute_result"
    }
   ],
   "source": [
    "prediction(\"Michigan\", \"Maryland\")"
   ]
  },
  {
   "cell_type": "code",
   "execution_count": 35,
   "metadata": {},
   "outputs": [
    {
     "data": {
      "text/plain": [
       "6.323795091222441"
      ]
     },
     "execution_count": 35,
     "metadata": {},
     "output_type": "execute_result"
    }
   ],
   "source": [
    "prediction(\"Purdue\", \"Nebraska\")"
   ]
  },
  {
   "cell_type": "code",
   "execution_count": null,
   "metadata": {},
   "outputs": [],
   "source": []
  }
 ],
 "metadata": {
  "kernelspec": {
   "display_name": "Julia 1.0.5",
   "language": "julia",
   "name": "julia-1.0"
  },
  "language_info": {
   "file_extension": ".jl",
   "mimetype": "application/julia",
   "name": "julia",
   "version": "1.0.5"
  }
 },
 "nbformat": 4,
 "nbformat_minor": 2
}
